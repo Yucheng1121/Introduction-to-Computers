{
  "nbformat": 4,
  "nbformat_minor": 0,
  "metadata": {
    "colab": {
      "provenance": [],
      "authorship_tag": "ABX9TyP0M2YRbA8hcLlWlySPCWOM",
      "include_colab_link": true
    },
    "kernelspec": {
      "name": "python3",
      "display_name": "Python 3"
    },
    "language_info": {
      "name": "python"
    }
  },
  "cells": [
    {
      "cell_type": "markdown",
      "metadata": {
        "id": "view-in-github",
        "colab_type": "text"
      },
      "source": [
        "<a href=\"https://colab.research.google.com/github/Yucheng1121/Introduction-to-Computers/blob/main/0515.ipynb\" target=\"_parent\"><img src=\"https://colab.research.google.com/assets/colab-badge.svg\" alt=\"Open In Colab\"/></a>"
      ]
    },
    {
      "cell_type": "code",
      "execution_count": null,
      "metadata": {
        "colab": {
          "base_uri": "https://localhost:8080/"
        },
        "id": "OkOg5Rw0Kmhd",
        "outputId": "22881737-258f-42fb-9909-62cca682ed5c"
      },
      "outputs": [
        {
          "output_type": "stream",
          "name": "stdout",
          "text": [
            "0515\n"
          ]
        }
      ],
      "source": [
        "print(\"0515\")"
      ]
    },
    {
      "cell_type": "code",
      "source": [
        "rain = (input(\"今天會下雨嗎？\"))\n",
        "if rain == \"Y\" or rain == \"y\":\n",
        "  print(\"出門記得帶傘！\")\n",
        "elif rain == \"N\" or rain == \"n\":\n",
        "  print(\"不用帶傘！\")\n",
        "else:\n",
        "  print(\"請重新輸入\")"
      ],
      "metadata": {
        "colab": {
          "base_uri": "https://localhost:8080/"
        },
        "id": "zXMHQKDxSOUk",
        "outputId": "0cfaf347-2fcd-4b9b-9ff8-097782dfa4bb"
      },
      "execution_count": 7,
      "outputs": [
        {
          "output_type": "stream",
          "name": "stdout",
          "text": [
            "今天會下雨嗎？N\n",
            "不用帶傘！\n"
          ]
        }
      ]
    },
    {
      "cell_type": "code",
      "source": [
        "temperature = float(input(\"請輸入體溫\"))\n",
        "if temperature >= 37.5:\n",
        "  print(\"體溫過高!\")\n",
        "elif 37 <= temperature <= 37:\n",
        "  print(\"體溫略高!\")\n",
        "elif 34 <= temperature <= 36.9:\n",
        "  print(\"體溫正常!\")\n",
        "else :\n",
        "  print(\"體溫異常，請重新測量!\")"
      ],
      "metadata": {
        "colab": {
          "base_uri": "https://localhost:8080/"
        },
        "id": "B5OGgzqmUySL",
        "outputId": "27fb3971-abb7-41fd-8962-7714cadfd1bb"
      },
      "execution_count": 16,
      "outputs": [
        {
          "output_type": "stream",
          "name": "stdout",
          "text": [
            "請輸入體溫60\n",
            "體溫過高!\n"
          ]
        }
      ]
    },
    {
      "cell_type": "code",
      "source": [
        "score = int(input(\"請輸入成績: \"))\n",
        "if score >= 90:\n",
        "  print('成績等級: A')\n",
        "elif score >= 80:\n",
        "  print('成績等級: B')\n",
        "elif score >= 70:\n",
        "  print('成績等級: C')\n",
        "elif score >= 60:\n",
        "  print('成績等級: D')\n",
        "else:\n",
        "  print('成績等級: F')"
      ],
      "metadata": {
        "colab": {
          "base_uri": "https://localhost:8080/"
        },
        "id": "7yH13sP7Xmhg",
        "outputId": "4fccf9ee-5000-4c5e-9cb7-14e1d0480939"
      },
      "execution_count": 19,
      "outputs": [
        {
          "output_type": "stream",
          "name": "stdout",
          "text": [
            "請輸入成績: 88\n",
            "成績等級: B\n"
          ]
        }
      ]
    },
    {
      "cell_type": "code",
      "source": [
        "month = int(input(\"請輸入月份:\"))\n",
        "if month in [3 ,4 ,5]:\n",
        "  print(month, \"月是春天！\")\n",
        "elif month in [6 ,7 ,8]:\n",
        "  print(month, \"月是夏天!\")\n",
        "elif month in [9 ,10 ,11]:\n",
        "  print(month, \"月是秋天!\")\n",
        "elif month in [12, 1 ,2]:\n",
        "  print(month, \"月是冬天!\")\n",
        "else :\n",
        "  print(\"月份不再範圍內!\")"
      ],
      "metadata": {
        "colab": {
          "base_uri": "https://localhost:8080/"
        },
        "id": "y6_0WQ44YWoz",
        "outputId": "6dfcd724-73f6-4d9e-86c1-bcf450518132"
      },
      "execution_count": 27,
      "outputs": [
        {
          "output_type": "stream",
          "name": "stdout",
          "text": [
            "請輸入月份:3\n",
            "3 月是春天！\n"
          ]
        }
      ]
    },
    {
      "cell_type": "code",
      "source": [
        "income = float(input(\"請輸入今年收入淨額:\"))\n",
        "if income >= 2000000:\n",
        "  稅率 = 0.3\n",
        "elif income >= 1000000:\n",
        "  稅率 = 0.21\n",
        "elif income >= 600000:\n",
        "  稅率 = 0.13\n",
        "elif income >= 300000:\n",
        "  稅率 = 0.06\n",
        "else :\n",
        "  稅率 = 0\n",
        "付稅金額 = income * 稅率\n",
        "print (f\"付稅金額: {付稅金額}\")"
      ],
      "metadata": {
        "colab": {
          "base_uri": "https://localhost:8080/"
        },
        "id": "CSHmsTd_bI4-",
        "outputId": "63317cb4-0c1c-42bb-b76e-0bedc9e8ee63"
      },
      "execution_count": 31,
      "outputs": [
        {
          "output_type": "stream",
          "name": "stdout",
          "text": [
            "請輸入今年收入淨額:4000000\n",
            "付稅金額: 1200000.0\n"
          ]
        }
      ]
    }
  ]
}