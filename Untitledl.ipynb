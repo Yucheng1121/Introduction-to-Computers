{
  "nbformat": 4,
  "nbformat_minor": 0,
  "metadata": {
    "colab": {
      "provenance": [],
      "authorship_tag": "ABX9TyMpoMLFhsaZl2g66zeZvPXG",
      "include_colab_link": true
    },
    "kernelspec": {
      "name": "python3",
      "display_name": "Python 3"
    },
    "language_info": {
      "name": "python"
    }
  },
  "cells": [
    {
      "cell_type": "markdown",
      "metadata": {
        "id": "view-in-github",
        "colab_type": "text"
      },
      "source": [
        "<a href=\"https://colab.research.google.com/github/Yucheng1121/Introduction-to-Computers/blob/main/Untitledl.ipynb\" target=\"_parent\"><img src=\"https://colab.research.google.com/assets/colab-badge.svg\" alt=\"Open In Colab\"/></a>"
      ]
    },
    {
      "cell_type": "code",
      "source": [
        "1. 奇數.偶數判斷"
      ],
      "metadata": {
        "id": "s5fVAQ1XTLvY"
      },
      "execution_count": null,
      "outputs": []
    },
    {
      "cell_type": "code",
      "source": [
        "n = int(input(\"\"))\n",
        "if n >= 0 and n%2 == 0:\n",
        "  print(n, \"is even\")\n",
        "elif n >= 0 and n%2 != 0:\n",
        "  print(n, \"is odd\")\n",
        "else:\n",
        "  print(\"Input Error\")"
      ],
      "metadata": {
        "id": "oZCwnRgzTOVm",
        "outputId": "16b46049-58cf-4783-ac4f-933e52d39ca6",
        "colab": {
          "base_uri": "https://localhost:8080/"
        }
      },
      "execution_count": null,
      "outputs": [
        {
          "output_type": "stream",
          "name": "stdout",
          "text": [
            "65\n",
            "65 is odd\n"
          ]
        }
      ]
    },
    {
      "cell_type": "code",
      "source": [
        "2. 季節判斷"
      ],
      "metadata": {
        "id": "mVx6xDV-qh-K"
      },
      "execution_count": null,
      "outputs": []
    },
    {
      "cell_type": "code",
      "source": [
        "month = int(input(\"\"))\n",
        "if 1 <= month <= 3:\n",
        "  season = \"spring\"\n",
        "elif 4 <= month <= 6:\n",
        "  season = \"summer\"\n",
        "elif 7 <= month <= 9:\n",
        "  season = \"autumn\"\n",
        "elif 10 <= month <= 12:\n",
        "  season = \"winter\"\n",
        "else:\n",
        "  season = \"Input Error\"\n",
        "\n",
        "if season != \"Input Error\":\n",
        "  print(month, \"is\", season)\n",
        "else:\n",
        "  print(\"Input Error\")\n"
      ],
      "metadata": {
        "colab": {
          "base_uri": "https://localhost:8080/"
        },
        "id": "9VrtmKy7qm0I",
        "outputId": "8165eb4c-535b-4e34-a2df-8386bf78bc26"
      },
      "execution_count": null,
      "outputs": [
        {
          "output_type": "stream",
          "name": "stdout",
          "text": [
            "請輸入月份(1-12):-2\n",
            "Input Error\n"
          ]
        }
      ]
    },
    {
      "cell_type": "code",
      "source": [
        "3. 計程車費用問題"
      ],
      "metadata": {
        "id": "O0T46mLgry7u"
      },
      "execution_count": null,
      "outputs": []
    },
    {
      "cell_type": "code",
      "source": [
        "distance = int(input(\"\"))\n",
        "if distance < 0:\n",
        "  print(\"Input Error\")\n",
        "elif distance == 0:\n",
        "  print(\"0 yuan\")\n",
        "elif distance <= 5:\n",
        "  print(\"240 yuan\")\n",
        "else:\n",
        "  total_price = 240 + (distance - 5) * 40\n",
        "  print(total_price, \"yuan\")\n"
      ],
      "metadata": {
        "colab": {
          "base_uri": "https://localhost:8080/"
        },
        "id": "XB_fdEFor1lt",
        "outputId": "4e30327d-0f2a-4d14-d995-99c22b77ca76"
      },
      "execution_count": null,
      "outputs": [
        {
          "output_type": "stream",
          "name": "stdout",
          "text": [
            "請輸入公里數：5\n",
            "240 yuan\n"
          ]
        }
      ]
    },
    {
      "cell_type": "code",
      "source": [
        "4. 銀行複利問題"
      ],
      "metadata": {
        "id": "XRMGRwTVsOmN"
      },
      "execution_count": null,
      "outputs": []
    },
    {
      "cell_type": "code",
      "source": [
        "p = 100000\n",
        "i = 0.03\n",
        "years = int(input(\"\"))\n",
        "if years < 0:\n",
        "\tprint(\"Input Error\")\n",
        "else:\n",
        "\tresult = p * (1 + i) ** years\n",
        "\tprint(result)\n"
      ],
      "metadata": {
        "colab": {
          "base_uri": "https://localhost:8080/"
        },
        "id": "AnRUNA35sc4l",
        "outputId": "a228d333-ccb7-4d82-b3c4-8f211c9d23a6"
      },
      "execution_count": null,
      "outputs": [
        {
          "output_type": "stream",
          "name": "stdout",
          "text": [
            "5\n",
            "115927.40743\n"
          ]
        }
      ]
    },
    {
      "cell_type": "code",
      "source": [
        "5. 找出3個數的最小值"
      ],
      "metadata": {
        "id": "kXXSU-JItMz8"
      },
      "execution_count": null,
      "outputs": []
    },
    {
      "cell_type": "code",
      "source": [
        "n = input(\"\")\n",
        "n_list = n.split()\n",
        "\n",
        "n_list = [int(num) for num in n_list]\n",
        "\n",
        "min = n_list[0]\n",
        "\n",
        "if n_list[1] < min:\n",
        "    min = n_list[1]\n",
        "if n_list[2] < min:\n",
        "    min = n_list[2]\n",
        "\n",
        "print(min)\n"
      ],
      "metadata": {
        "colab": {
          "base_uri": "https://localhost:8080/"
        },
        "id": "gHtdLUKPtOEe",
        "outputId": "9436dfa4-2b2c-4523-c41a-681b8325a899"
      },
      "execution_count": null,
      "outputs": [
        {
          "output_type": "stream",
          "name": "stdout",
          "text": [
            "6 -8 7\n",
            "-8\n"
          ]
        }
      ]
    },
    {
      "cell_type": "code",
      "source": [
        "6. 找出3個數的最大值"
      ],
      "metadata": {
        "id": "K9SbbVgguZVl"
      },
      "execution_count": null,
      "outputs": []
    },
    {
      "cell_type": "code",
      "source": [
        "n = input(\"\")\n",
        "n_list = n.split()\n",
        "\n",
        "n_list = [float(num) for num in n_list]\n",
        "\n",
        "max = n_list[0]\n",
        "\n",
        "if n_list[1] > max:\n",
        "    max = n_list[1]\n",
        "if n_list[2] > max:\n",
        "    max = n_list[2]\n",
        "if max < 0:\n",
        "    max = -max\n",
        "\n",
        "print(max)\n"
      ],
      "metadata": {
        "colab": {
          "base_uri": "https://localhost:8080/"
        },
        "id": "rqn897dTudcs",
        "outputId": "72911556-5bc2-4dce-feb3-a5b83947c007"
      },
      "execution_count": null,
      "outputs": [
        {
          "output_type": "stream",
          "name": "stdout",
          "text": [
            "5.24 -83.2 8.01\n",
            "8.01\n"
          ]
        }
      ]
    },
    {
      "cell_type": "code",
      "source": [
        "7. 列出所有因數"
      ],
      "metadata": {
        "id": "SeaT2o_05Wwv"
      },
      "execution_count": null,
      "outputs": []
    },
    {
      "cell_type": "code",
      "source": [
        "n = int(input(\"\"))\n",
        "\n",
        "factors = []\n",
        "for i in range(1, n+1):\n",
        "    if n % i == 0:\n",
        "        factors.append(i)\n",
        "\n",
        "for factor in factors:\n",
        "    print(factor, end=\" \")\n"
      ],
      "metadata": {
        "colab": {
          "base_uri": "https://localhost:8080/"
        },
        "id": "oHbEq1ZX5dS-",
        "outputId": "562f7cd5-9e40-4ad0-95fc-d405e6978cdf"
      },
      "execution_count": null,
      "outputs": [
        {
          "output_type": "stream",
          "name": "stdout",
          "text": [
            "45\n",
            "1 3 5 9 15 45 "
          ]
        }
      ]
    },
    {
      "cell_type": "code",
      "source": [
        "8. 計算3或7的倍數總和"
      ],
      "metadata": {
        "id": "fx76xBnh6Vyc"
      },
      "execution_count": null,
      "outputs": []
    },
    {
      "cell_type": "code",
      "source": [
        "n = int(input(\"\"))\n",
        "\n",
        "sum = 0\n",
        "for i in range(1, n+1):\n",
        "    if i % 3 == 0 or i % 7 == 0:\n",
        "        sum += i\n",
        "\n",
        "print(sum)\n"
      ],
      "metadata": {
        "colab": {
          "base_uri": "https://localhost:8080/"
        },
        "id": "Y9mo5WCu6abW",
        "outputId": "66c4b937-524f-4135-c619-5acbbdcbedb5"
      },
      "execution_count": null,
      "outputs": [
        {
          "output_type": "stream",
          "name": "stdout",
          "text": [
            "20\n",
            "84\n"
          ]
        }
      ]
    },
    {
      "cell_type": "code",
      "source": [
        "9. 用＊印出靠左下的直角三角形"
      ],
      "metadata": {
        "id": "bFDJXMNN7zsr"
      },
      "execution_count": null,
      "outputs": []
    },
    {
      "cell_type": "code",
      "source": [
        "n = int(input(\"\"))\n",
        "\n",
        "for i in range(1, n+1):\n",
        "    print('*' * i)\n"
      ],
      "metadata": {
        "colab": {
          "base_uri": "https://localhost:8080/"
        },
        "id": "7dTDSZkj73Kk",
        "outputId": "e5a97b24-a8a6-4c99-a571-7b98f1a84d4b"
      },
      "execution_count": null,
      "outputs": [
        {
          "output_type": "stream",
          "name": "stdout",
          "text": [
            "12\n",
            "*\n",
            "**\n",
            "***\n",
            "****\n",
            "*****\n",
            "******\n",
            "*******\n",
            "********\n",
            "*********\n",
            "**********\n",
            "***********\n",
            "************\n"
          ]
        }
      ]
    },
    {
      "cell_type": "code",
      "source": [
        "10. 用連續數字印出靠左下的直角三角形"
      ],
      "metadata": {
        "id": "7GiJk7If8W20"
      },
      "execution_count": null,
      "outputs": []
    },
    {
      "cell_type": "code",
      "source": [
        "n = int(input(\"\"))\n",
        "\n",
        "for i in range(1, n+1):\n",
        "  for j in range(1, i+1):\n",
        "    print(j, end='')\n",
        "  print()\n",
        "\n"
      ],
      "metadata": {
        "colab": {
          "base_uri": "https://localhost:8080/"
        },
        "id": "Y3fh46cG8W_8",
        "outputId": "ec7afd4c-b0b4-4c4a-fc63-650e2df328f6"
      },
      "execution_count": null,
      "outputs": [
        {
          "output_type": "stream",
          "name": "stdout",
          "text": [
            "12\n",
            "1\n",
            "12\n",
            "123\n",
            "1234\n",
            "12345\n",
            "123456\n",
            "1234567\n",
            "12345678\n",
            "123456789\n",
            "12345678910\n",
            "1234567891011\n",
            "123456789101112\n"
          ]
        }
      ]
    },
    {
      "cell_type": "code",
      "source": [
        "11. 求兩數的最大公因數"
      ],
      "metadata": {
        "id": "JJE_9BgO9maS"
      },
      "execution_count": null,
      "outputs": []
    },
    {
      "cell_type": "code",
      "source": [
        "a,b = map(int, input(\"\").split())\n",
        "\n",
        "def gcd(a,b):\n",
        "  while b != 0:\n",
        "    a,b = b, a % b\n",
        "  return a\n",
        "\n",
        "GCD = gcd(a,b)\n",
        "print(f\"{GCD}\")"
      ],
      "metadata": {
        "colab": {
          "base_uri": "https://localhost:8080/"
        },
        "id": "dxcfHZAp9nTu",
        "outputId": "a19ee31a-927f-4688-ed51-9cdeba1a47db"
      },
      "execution_count": null,
      "outputs": [
        {
          "output_type": "stream",
          "name": "stdout",
          "text": [
            "60 20\n",
            "20\n"
          ]
        }
      ]
    },
    {
      "cell_type": "code",
      "source": [
        "12. 求兩數的最大公倍數 "
      ],
      "metadata": {
        "id": "waFG70iBCyJv"
      },
      "execution_count": null,
      "outputs": []
    },
    {
      "cell_type": "code",
      "source": [
        "a,b = map(int, input(\"\").split())\n",
        "\n",
        "def gcd(a,b):\n",
        "  while b != 0:\n",
        "    a,b = b, a % b\n",
        "  return a\n",
        "\n",
        "GCD = (a * b) // gcd(a,b)\n",
        "print(f\"{GCD}\")"
      ],
      "metadata": {
        "id": "9jTsniNvCy3W",
        "colab": {
          "base_uri": "https://localhost:8080/"
        },
        "outputId": "7af4f56c-bc9c-4c55-c279-fe6cff9b9f9c"
      },
      "execution_count": null,
      "outputs": [
        {
          "output_type": "stream",
          "name": "stdout",
          "text": [
            "20 50\n",
            "100\n"
          ]
        }
      ]
    },
    {
      "cell_type": "code",
      "source": [
        "13. 大小寫變變樂"
      ],
      "metadata": {
        "id": "cPd6vAHqCzCQ"
      },
      "execution_count": null,
      "outputs": []
    },
    {
      "cell_type": "code",
      "source": [
        "n = input(\"\")\n",
        "output = ''\n",
        "for i in range(len(n)):\n",
        "  if i % 2 == 0:\n",
        "    output += n[i].upper()\n",
        "  else:\n",
        "    output += n[i].lower()\n",
        "print(output)\n"
      ],
      "metadata": {
        "colab": {
          "base_uri": "https://localhost:8080/"
        },
        "id": "pH6QsiTuC5OY",
        "outputId": "25a74473-b453-4e43-893d-9756d3e5d3b0"
      },
      "execution_count": null,
      "outputs": [
        {
          "output_type": "stream",
          "name": "stdout",
          "text": [
            "sdcf\n",
            "SdCf\n"
          ]
        }
      ]
    },
    {
      "cell_type": "code",
      "source": [
        "14. 判斷是否構成三角形"
      ],
      "metadata": {
        "id": "PjBcRitjDlB-"
      },
      "execution_count": null,
      "outputs": []
    },
    {
      "cell_type": "code",
      "source": [
        "a, b, c = map(int, input(\"\").split())\n",
        "\n",
        "if (a + b > c) and (a + c > b) and (b + c > a):\n",
        "    print(\"Valid\")\n",
        "else:\n",
        "    print(\"Invalid\")\n"
      ],
      "metadata": {
        "colab": {
          "base_uri": "https://localhost:8080/"
        },
        "id": "T8bXqUZsDl5N",
        "outputId": "a22cf466-c3b2-42a8-fb73-20ff6627e405"
      },
      "execution_count": null,
      "outputs": [
        {
          "output_type": "stream",
          "name": "stdout",
          "text": [
            "2 5 7\n",
            "Invalid\n"
          ]
        }
      ]
    },
    {
      "cell_type": "code",
      "source": [
        "15. 將字串(list)每一項倒序印出來"
      ],
      "metadata": {
        "id": "b9cf3F_7EAm_"
      },
      "execution_count": null,
      "outputs": []
    },
    {
      "cell_type": "code",
      "source": [
        "n = input(\"\").split()\n",
        "倒序 = n[::-1]\n",
        "output = ' '.join(倒序)\n",
        "print(output)\n"
      ],
      "metadata": {
        "colab": {
          "base_uri": "https://localhost:8080/"
        },
        "id": "jcFUCJxFEB3o",
        "outputId": "76fe4de3-0a8d-44b6-f6e8-10433718bd70"
      },
      "execution_count": null,
      "outputs": [
        {
          "output_type": "stream",
          "name": "stdout",
          "text": [
            "30 52 41\n",
            "41 52 30\n"
          ]
        }
      ]
    },
    {
      "cell_type": "code",
      "source": [
        "16. 製作密碼遮罩器 "
      ],
      "metadata": {
        "id": "bvSt7lPNGLP3"
      },
      "execution_count": null,
      "outputs": []
    },
    {
      "cell_type": "code",
      "source": [
        "密碼 = input(\"\")\n",
        "密碼長度 = len(密碼)\n",
        "遮密碼 = \"*\" * 密碼長度\n",
        "\n",
        "print(遮密碼, end = \"\\n\")\n",
        "print(\"total:\" + str(密碼長度))\n"
      ],
      "metadata": {
        "colab": {
          "base_uri": "https://localhost:8080/"
        },
        "id": "QIUF4SmrGOdm",
        "outputId": "d16ab1d7-10b2-4a22-aa79-d4aafb2d737e"
      },
      "execution_count": null,
      "outputs": [
        {
          "output_type": "stream",
          "name": "stdout",
          "text": [
            "254 569\n",
            "*******\n",
            "total:7\n"
          ]
        }
      ]
    },
    {
      "cell_type": "code",
      "source": [
        "17. 時間秒數轉換"
      ],
      "metadata": {
        "id": "O1EQEZNdHYHO"
      },
      "execution_count": null,
      "outputs": []
    },
    {
      "cell_type": "code",
      "source": [
        "total_seconds = int(input(\"\"))\n",
        "\n",
        "hours = total_seconds // 3600 \n",
        "minutes = (total_seconds % 3600) // 60  \n",
        "seconds = total_seconds % 60 \n",
        "\n",
        "Hours = \"{:02d}\".format(hours)\n",
        "Minutes = \"{:02d}\".format(minutes)\n",
        "Seconds = \"{:02d}\".format(seconds)\n",
        "\n",
        "Time = f\"{Hours}:{Minutes}:{Seconds}\"\n",
        "print(Time)\n"
      ],
      "metadata": {
        "colab": {
          "base_uri": "https://localhost:8080/"
        },
        "id": "2QDEI8scHZQV",
        "outputId": "171421e1-27e5-4007-a722-144258174273"
      },
      "execution_count": null,
      "outputs": [
        {
          "output_type": "stream",
          "name": "stdout",
          "text": [
            "3845\n",
            "01:04:05\n"
          ]
        }
      ]
    },
    {
      "cell_type": "code",
      "source": [
        "18. 判斷平年、閏年"
      ],
      "metadata": {
        "id": "SDVwjvveIIjX"
      },
      "execution_count": null,
      "outputs": []
    },
    {
      "cell_type": "code",
      "source": [
        "year = int(input(\"\"))\n",
        "閏年 = False\n",
        "\n",
        "if year % 4 == 0:\n",
        "  if year % 100 != 0 or year % 400 == 0:\n",
        "    閏年 = True\n",
        "\n",
        "if 閏年:\n",
        "  print(f\"{year} is leap year\")\n",
        "else:\n",
        "  print(f\"{year} is common year\")\n"
      ],
      "metadata": {
        "colab": {
          "base_uri": "https://localhost:8080/"
        },
        "id": "hhfCAUnVILCD",
        "outputId": "a1a3ea08-c549-438c-b624-9d28e1d27f10"
      },
      "execution_count": null,
      "outputs": [
        {
          "output_type": "stream",
          "name": "stdout",
          "text": [
            "2000\n",
            "2000 is leap year\n"
          ]
        }
      ]
    },
    {
      "cell_type": "code",
      "source": [
        "19. 印出乘法表 (錯的)"
      ],
      "metadata": {
        "id": "b2__PvtNJEQc"
      },
      "execution_count": null,
      "outputs": []
    },
    {
      "cell_type": "code",
      "source": [
        "n = int(input(\"\"))\n",
        "for i in range(n, 10):\n",
        "  for j in range(1, 10):\n",
        "    乘法 = i * j\n",
        "    print(\"%d * %d = %d\" % (i, j, 乘法), end=\" \")\n",
        "  print()"
      ],
      "metadata": {
        "colab": {
          "base_uri": "https://localhost:8080/"
        },
        "id": "CTgdlm_cJFMU",
        "outputId": "568ded1c-5480-43ab-ddbf-20a1e5b059fa"
      },
      "execution_count": null,
      "outputs": [
        {
          "output_type": "stream",
          "name": "stdout",
          "text": [
            "7\n",
            "7 * 1 = 7 7 * 2 = 14 7 * 3 = 21 7 * 4 = 28 7 * 5 = 35 7 * 6 = 42 7 * 7 = 49 7 * 8 = 56 7 * 9 = 63 \n",
            "8 * 1 = 8 8 * 2 = 16 8 * 3 = 24 8 * 4 = 32 8 * 5 = 40 8 * 6 = 48 8 * 7 = 56 8 * 8 = 64 8 * 9 = 72 \n",
            "9 * 1 = 9 9 * 2 = 18 9 * 3 = 27 9 * 4 = 36 9 * 5 = 45 9 * 6 = 54 9 * 7 = 63 9 * 8 = 72 9 * 9 = 81 \n"
          ]
        }
      ]
    },
    {
      "cell_type": "code",
      "source": [
        "20. 偶數加總"
      ],
      "metadata": {
        "id": "ub4Y-3FvLEY0"
      },
      "execution_count": null,
      "outputs": []
    },
    {
      "cell_type": "code",
      "source": [
        "n = int(input(\"\"))\n",
        "偶數加總 = 0\n",
        "\n",
        "for i in range(15, n + 1):\n",
        "  if i % 2 == 0:\n",
        "    偶數加總 += i\n",
        "print(偶數加總)\n"
      ],
      "metadata": {
        "colab": {
          "base_uri": "https://localhost:8080/"
        },
        "id": "sTp90w_tLFO9",
        "outputId": "178ddd62-f9fe-4563-91f3-74493ce8896d"
      },
      "execution_count": null,
      "outputs": [
        {
          "output_type": "stream",
          "name": "stdout",
          "text": [
            "22\n",
            "76\n"
          ]
        }
      ]
    },
    {
      "cell_type": "code",
      "source": [
        "建立互不相同的數字排列"
      ],
      "metadata": {
        "id": "nV_9BmI5L4bE"
      },
      "execution_count": null,
      "outputs": []
    },
    {
      "cell_type": "code",
      "source": [
        "for i in range(1, 5):\n",
        "  for j in range(1, 5):\n",
        "    for k in range(1, 5):\n",
        "      if i != j and j != k and i != k:\n",
        "        print(i, j, k)\n"
      ],
      "metadata": {
        "colab": {
          "base_uri": "https://localhost:8080/"
        },
        "id": "dw2NvbDQL4vq",
        "outputId": "5b943741-a5f5-4e76-a70e-633359c06a39"
      },
      "execution_count": null,
      "outputs": [
        {
          "output_type": "stream",
          "name": "stdout",
          "text": [
            "1 2 3\n",
            "1 2 4\n",
            "1 3 2\n",
            "1 3 4\n",
            "1 4 2\n",
            "1 4 3\n",
            "2 1 3\n",
            "2 1 4\n",
            "2 3 1\n",
            "2 3 4\n",
            "2 4 1\n",
            "2 4 3\n",
            "3 1 2\n",
            "3 1 4\n",
            "3 2 1\n",
            "3 2 4\n",
            "3 4 1\n",
            "3 4 2\n",
            "4 1 2\n",
            "4 1 3\n",
            "4 2 1\n",
            "4 2 3\n",
            "4 3 1\n",
            "4 3 2\n"
          ]
        }
      ]
    },
    {
      "cell_type": "code",
      "source": [
        "BMI計算 (錯了)"
      ],
      "metadata": {
        "id": "9AU_WtNZMRsr"
      },
      "execution_count": null,
      "outputs": []
    },
    {
      "cell_type": "code",
      "source": [
        "height,weight = map(float,input(\" \").split())\n",
        "\n",
        "bmi = weight / (height/100) ** 2\n",
        "BMI = \"{:.2f}\".format(bmi)\n",
        "\n",
        "print(BMI)\n",
        "\n"
      ],
      "metadata": {
        "colab": {
          "base_uri": "https://localhost:8080/"
        },
        "id": "n2-9XNX5MR9X",
        "outputId": "d9065d99-a1fc-4532-867d-c1ccf2f001d0"
      },
      "execution_count": null,
      "outputs": [
        {
          "output_type": "stream",
          "name": "stdout",
          "text": [
            " 176 75\n",
            "24.21\n"
          ]
        }
      ]
    },
    {
      "cell_type": "code",
      "source": [
        "重複列印文字"
      ],
      "metadata": {
        "id": "4a7_n32kOtDT"
      },
      "execution_count": null,
      "outputs": []
    },
    {
      "cell_type": "code",
      "source": [
        "n = int(input(\"\"))\n",
        "\n",
        "result = [1, 2, 3] * 3\n",
        "\n",
        "print(result)\n"
      ],
      "metadata": {
        "colab": {
          "base_uri": "https://localhost:8080/"
        },
        "id": "uFiMI15cOwDC",
        "outputId": "cdf5b868-f347-4eca-bbb2-40590a647e12"
      },
      "execution_count": null,
      "outputs": [
        {
          "output_type": "stream",
          "name": "stdout",
          "text": [
            "123\n",
            "[1, 2, 3, 1, 2, 3, 1, 2, 3]\n"
          ]
        }
      ]
    },
    {
      "cell_type": "code",
      "source": [
        "將文字順序顛倒印出 (錯了)"
      ],
      "metadata": {
        "id": "xzRw-fTxPnZS"
      },
      "execution_count": null,
      "outputs": []
    },
    {
      "cell_type": "code",
      "source": [
        "n= input(\"\").split()\n",
        "\n",
        "for item in reversed(n):\n",
        "    print(item)\n",
        "\n"
      ],
      "metadata": {
        "colab": {
          "base_uri": "https://localhost:8080/"
        },
        "id": "ZY549QRbPoE6",
        "outputId": "088d7168-5143-4cb1-f645-7ed8fcef7831"
      },
      "execution_count": null,
      "outputs": [
        {
          "output_type": "stream",
          "name": "stdout",
          "text": [
            "apple 125 456\n",
            "456\n",
            "125\n",
            "apple\n"
          ]
        }
      ]
    },
    {
      "cell_type": "code",
      "source": [
        "求解1到100的總和"
      ],
      "metadata": {
        "id": "cyTilfN1RcDX"
      },
      "execution_count": null,
      "outputs": []
    },
    {
      "cell_type": "code",
      "source": [
        "total = 0\n",
        "\n",
        "for i in range(1, 101):\n",
        "  total += i\n",
        "\n",
        "print(total)\n"
      ],
      "metadata": {
        "colab": {
          "base_uri": "https://localhost:8080/"
        },
        "id": "6-TqPsELRvhw",
        "outputId": "db1becd2-cc9a-461a-a009-6946f9682878"
      },
      "execution_count": null,
      "outputs": [
        {
          "output_type": "stream",
          "name": "stdout",
          "text": [
            "5050\n"
          ]
        }
      ]
    }
  ]
}